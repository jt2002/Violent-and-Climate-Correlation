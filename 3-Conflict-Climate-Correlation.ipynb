{
 "cells": [
  {
   "cell_type": "code",
   "execution_count": 243,
   "metadata": {},
   "outputs": [],
   "source": [
    "import pandas as pd\n",
    "import numpy as np\n",
    "from functools import reduce\n",
    "from datetime import datetime\n",
    "from itertools import product\n",
    "from scipy.stats import shapiro\n",
    "from scipy.stats import normaltest\n",
    "from scipy.stats import anderson\n",
    "from scipy.stats import spearmanr\n",
    "from scipy.stats import kendalltau"
   ]
  },
  {
   "cell_type": "markdown",
   "metadata": {},
   "source": [
    "# 3. Hypothesis test of correlation between conflict and climate variables\n",
    "- Design your hypothesis test if there is correlation/association between conflict and climate variables in each of districts\n",
    "- What are your statistical metrics to reject/accept your hypothesis?\n",
    "- What is your conclusion on the correlation/association between conflict and climate variables in each of districts given your statistical metrics"
   ]
  },
  {
   "cell_type": "markdown",
   "metadata": {},
   "source": [
    "## 3.1 Reinstate Conflict Data from previous step"
   ]
  },
  {
   "cell_type": "code",
   "execution_count": 262,
   "metadata": {},
   "outputs": [],
   "source": [
    "d_parser = lambda x: datetime.strptime(x, '%Y-%m-%d')\n",
    "\n",
    "# Parse date_start data and set it to index\n",
    "kd = pd.read_csv('exported_df/kunduz.csv', parse_dates=['date_start'], date_parser=d_parser)\n",
    "kd.set_index('date_start', inplace=True)\n",
    "\n",
    "gn = pd.read_csv('exported_df/ghazni.csv', parse_dates=['date_start'], date_parser=d_parser)\n",
    "gn.set_index('date_start', inplace=True)\n",
    "\n",
    "kb = pd.read_csv('exported_df/kabul.csv', parse_dates=['date_start'], date_parser=d_parser)\n",
    "kb.set_index('date_start', inplace=True)"
   ]
  },
  {
   "cell_type": "code",
   "execution_count": 263,
   "metadata": {},
   "outputs": [
    {
     "data": {
      "text/html": [
       "<div>\n",
       "<style scoped>\n",
       "    .dataframe tbody tr th:only-of-type {\n",
       "        vertical-align: middle;\n",
       "    }\n",
       "\n",
       "    .dataframe tbody tr th {\n",
       "        vertical-align: top;\n",
       "    }\n",
       "\n",
       "    .dataframe thead th {\n",
       "        text-align: right;\n",
       "    }\n",
       "</style>\n",
       "<table border=\"1\" class=\"dataframe\">\n",
       "  <thead>\n",
       "    <tr style=\"text-align: right;\">\n",
       "      <th></th>\n",
       "      <th>event_sum</th>\n",
       "      <th>event_count</th>\n",
       "    </tr>\n",
       "    <tr>\n",
       "      <th>date_start</th>\n",
       "      <th></th>\n",
       "      <th></th>\n",
       "    </tr>\n",
       "  </thead>\n",
       "  <tbody>\n",
       "    <tr>\n",
       "      <th>1989-01-31</th>\n",
       "      <td>4</td>\n",
       "      <td>1</td>\n",
       "    </tr>\n",
       "    <tr>\n",
       "      <th>1989-02-28</th>\n",
       "      <td>0</td>\n",
       "      <td>0</td>\n",
       "    </tr>\n",
       "    <tr>\n",
       "      <th>1989-03-31</th>\n",
       "      <td>0</td>\n",
       "      <td>0</td>\n",
       "    </tr>\n",
       "    <tr>\n",
       "      <th>1989-04-30</th>\n",
       "      <td>0</td>\n",
       "      <td>0</td>\n",
       "    </tr>\n",
       "    <tr>\n",
       "      <th>1989-05-31</th>\n",
       "      <td>0</td>\n",
       "      <td>0</td>\n",
       "    </tr>\n",
       "  </tbody>\n",
       "</table>\n",
       "</div>"
      ],
      "text/plain": [
       "            event_sum  event_count\n",
       "date_start                        \n",
       "1989-01-31          4            1\n",
       "1989-02-28          0            0\n",
       "1989-03-31          0            0\n",
       "1989-04-30          0            0\n",
       "1989-05-31          0            0"
      ]
     },
     "execution_count": 263,
     "metadata": {},
     "output_type": "execute_result"
    }
   ],
   "source": [
    "kd.head()"
   ]
  },
  {
   "cell_type": "markdown",
   "metadata": {},
   "source": [
    "## 3.2 Reinstate Min, Max, Avg, and Pre from previous step"
   ]
  },
  {
   "cell_type": "code",
   "execution_count": 264,
   "metadata": {},
   "outputs": [],
   "source": [
    "d_parser = lambda x: datetime.strptime(x, '%Y-%m-%d')\n",
    "\n",
    "# Parse date data and set it to index\n",
    "df_min = pd.read_csv('exported_df/df_min.csv', parse_dates=['date'], date_parser=d_parser)\n",
    "df_min.set_index('date', inplace=True)\n",
    "\n",
    "df_max = pd.read_csv('exported_df/df_max.csv', parse_dates=['date'], date_parser=d_parser)\n",
    "df_max.set_index('date', inplace=True)\n",
    "\n",
    "df_avg = pd.read_csv('exported_df/df_avg.csv', parse_dates=['date'], date_parser=d_parser)\n",
    "df_avg.set_index('date', inplace=True)\n",
    "\n",
    "df_pre = pd.read_csv('exported_df/df_pre.csv', parse_dates=['date'], date_parser=d_parser)\n",
    "df_pre.set_index('date', inplace=True)"
   ]
  },
  {
   "cell_type": "code",
   "execution_count": 265,
   "metadata": {},
   "outputs": [
    {
     "data": {
      "text/html": [
       "<div>\n",
       "<style scoped>\n",
       "    .dataframe tbody tr th:only-of-type {\n",
       "        vertical-align: middle;\n",
       "    }\n",
       "\n",
       "    .dataframe tbody tr th {\n",
       "        vertical-align: top;\n",
       "    }\n",
       "\n",
       "    .dataframe thead th {\n",
       "        text-align: right;\n",
       "    }\n",
       "</style>\n",
       "<table border=\"1\" class=\"dataframe\">\n",
       "  <thead>\n",
       "    <tr style=\"text-align: right;\">\n",
       "      <th></th>\n",
       "      <th>min_kunduz</th>\n",
       "      <th>min_ghazni</th>\n",
       "      <th>min_kabul</th>\n",
       "    </tr>\n",
       "    <tr>\n",
       "      <th>date</th>\n",
       "      <th></th>\n",
       "      <th></th>\n",
       "      <th></th>\n",
       "    </tr>\n",
       "  </thead>\n",
       "  <tbody>\n",
       "    <tr>\n",
       "      <th>1989-01-16</th>\n",
       "      <td>-2.7</td>\n",
       "      <td>-10.5</td>\n",
       "      <td>-8.6</td>\n",
       "    </tr>\n",
       "    <tr>\n",
       "      <th>1989-02-15</th>\n",
       "      <td>-1.5</td>\n",
       "      <td>-9.8</td>\n",
       "      <td>-8.0</td>\n",
       "    </tr>\n",
       "    <tr>\n",
       "      <th>1989-03-16</th>\n",
       "      <td>6.1</td>\n",
       "      <td>-4.4</td>\n",
       "      <td>-1.3</td>\n",
       "    </tr>\n",
       "    <tr>\n",
       "      <th>1989-04-16</th>\n",
       "      <td>9.6</td>\n",
       "      <td>-0.5</td>\n",
       "      <td>2.8</td>\n",
       "    </tr>\n",
       "    <tr>\n",
       "      <th>1989-05-16</th>\n",
       "      <td>14.8</td>\n",
       "      <td>4.0</td>\n",
       "      <td>7.6</td>\n",
       "    </tr>\n",
       "  </tbody>\n",
       "</table>\n",
       "</div>"
      ],
      "text/plain": [
       "            min_kunduz  min_ghazni  min_kabul\n",
       "date                                         \n",
       "1989-01-16        -2.7       -10.5       -8.6\n",
       "1989-02-15        -1.5        -9.8       -8.0\n",
       "1989-03-16         6.1        -4.4       -1.3\n",
       "1989-04-16         9.6        -0.5        2.8\n",
       "1989-05-16        14.8         4.0        7.6"
      ]
     },
     "execution_count": 265,
     "metadata": {},
     "output_type": "execute_result"
    }
   ],
   "source": [
    "df_min.head()"
   ]
  },
  {
   "cell_type": "markdown",
   "metadata": {},
   "source": [
    "## 3.3 Merge Conflict data with Min, Max, Avg, and Pre data\n",
    "- All DataFrames have the same monthly frequency\n",
    "  - DataFrame merge codes are from [StackOverflow](https://stackoverflow.com/questions/44327999/python-pandas-merge-multiple-dataframes)\n",
    "- Merge each district (Kunduz, Ghazni, and Kabul) with their related columns (`min`, `max`, `avg`, `pre`)\n",
    "- Rename the columns\n",
    "- Sample contents of the 3 DataFrames are displayed below"
   ]
  },
  {
   "cell_type": "code",
   "execution_count": 129,
   "metadata": {},
   "outputs": [],
   "source": [
    "# Merge min, max, avg, and pre DataFrame\n",
    "climate_data_frames = [df_min, df_max, df_avg, df_pre]\n",
    "climate_df = reduce(lambda left,right: pd.merge(left, right, on=['date'], how='outer'), climate_data_frames)\n",
    "\n",
    "# Merge districts with their related columns\n",
    "col_names = ['min_kunduz', 'max_kunduz', 'avg_kunduz', 'pre_kunduz']\n",
    "kunduz_df = kd.merge(climate_df[col_names].resample('M').sum(), left_index=True, right_index=True, how='inner')\n",
    "\n",
    "# Rename columns\n",
    "kunduz_df.rename(columns={'event_sum': 'sm', 'event_count': 'ct', \n",
    "                          'min_kunduz': 'mn', 'max_kunduz': 'mx', 'avg_kunduz': 'av', 'pre_kunduz': 'pr'},\n",
    "                inplace=True)\n",
    "\n",
    "col_names = ['min_ghazni', 'max_ghazni', 'avg_ghazni', 'pre_ghazni']\n",
    "ghazni_df = gn.merge(climate_df[col_names].resample('M').sum(), left_index=True, right_index=True, how='inner')\n",
    "\n",
    "ghazni_df.rename(columns={'event_sum': 'sm', 'event_count': 'ct', \n",
    "                          'min_ghazni': 'mn', 'max_ghazni': 'mx', 'avg_ghazni': 'av', 'pre_ghazni': 'pr'},\n",
    "                inplace=True)\n",
    "\n",
    "col_names = ['min_kabul', 'max_kabul', 'avg_kabul', 'pre_kabul']\n",
    "kabul_df = kb.merge(climate_df[col_names].resample('M').sum(), left_index=True, right_index=True, how='inner')\n",
    "\n",
    "kabul_df.rename(columns={'event_sum': 'sm', 'event_count': 'ct', \n",
    "                          'min_kabul': 'mn', 'max_kabul': 'mx', 'avg_kabul': 'av', 'pre_kabul': 'pr'},\n",
    "                inplace=True)"
   ]
  },
  {
   "cell_type": "code",
   "execution_count": 136,
   "metadata": {},
   "outputs": [
    {
     "data": {
      "text/html": [
       "<div>\n",
       "<style scoped>\n",
       "    .dataframe tbody tr th:only-of-type {\n",
       "        vertical-align: middle;\n",
       "    }\n",
       "\n",
       "    .dataframe tbody tr th {\n",
       "        vertical-align: top;\n",
       "    }\n",
       "\n",
       "    .dataframe thead th {\n",
       "        text-align: right;\n",
       "    }\n",
       "</style>\n",
       "<table border=\"1\" class=\"dataframe\">\n",
       "  <thead>\n",
       "    <tr style=\"text-align: right;\">\n",
       "      <th></th>\n",
       "      <th>sm</th>\n",
       "      <th>ct</th>\n",
       "      <th>mn</th>\n",
       "      <th>mx</th>\n",
       "      <th>av</th>\n",
       "      <th>pr</th>\n",
       "    </tr>\n",
       "    <tr>\n",
       "      <th>date_start</th>\n",
       "      <th></th>\n",
       "      <th></th>\n",
       "      <th></th>\n",
       "      <th></th>\n",
       "      <th></th>\n",
       "      <th></th>\n",
       "    </tr>\n",
       "  </thead>\n",
       "  <tbody>\n",
       "    <tr>\n",
       "      <th>1989-01-31</th>\n",
       "      <td>4</td>\n",
       "      <td>1</td>\n",
       "      <td>-2.7</td>\n",
       "      <td>7.500000</td>\n",
       "      <td>2.4</td>\n",
       "      <td>34.600002</td>\n",
       "    </tr>\n",
       "    <tr>\n",
       "      <th>1989-02-28</th>\n",
       "      <td>0</td>\n",
       "      <td>0</td>\n",
       "      <td>-1.5</td>\n",
       "      <td>8.700000</td>\n",
       "      <td>3.6</td>\n",
       "      <td>54.200000</td>\n",
       "    </tr>\n",
       "    <tr>\n",
       "      <th>1989-03-31</th>\n",
       "      <td>0</td>\n",
       "      <td>0</td>\n",
       "      <td>6.1</td>\n",
       "      <td>19.000000</td>\n",
       "      <td>12.5</td>\n",
       "      <td>82.400000</td>\n",
       "    </tr>\n",
       "    <tr>\n",
       "      <th>1989-04-30</th>\n",
       "      <td>0</td>\n",
       "      <td>0</td>\n",
       "      <td>9.6</td>\n",
       "      <td>24.300001</td>\n",
       "      <td>16.9</td>\n",
       "      <td>22.500000</td>\n",
       "    </tr>\n",
       "    <tr>\n",
       "      <th>1989-05-31</th>\n",
       "      <td>0</td>\n",
       "      <td>0</td>\n",
       "      <td>14.8</td>\n",
       "      <td>29.600000</td>\n",
       "      <td>22.2</td>\n",
       "      <td>58.400000</td>\n",
       "    </tr>\n",
       "  </tbody>\n",
       "</table>\n",
       "</div>"
      ],
      "text/plain": [
       "            sm  ct    mn         mx    av         pr\n",
       "date_start                                          \n",
       "1989-01-31   4   1  -2.7   7.500000   2.4  34.600002\n",
       "1989-02-28   0   0  -1.5   8.700000   3.6  54.200000\n",
       "1989-03-31   0   0   6.1  19.000000  12.5  82.400000\n",
       "1989-04-30   0   0   9.6  24.300001  16.9  22.500000\n",
       "1989-05-31   0   0  14.8  29.600000  22.2  58.400000"
      ]
     },
     "execution_count": 136,
     "metadata": {},
     "output_type": "execute_result"
    }
   ],
   "source": [
    "kunduz_df.head()"
   ]
  },
  {
   "cell_type": "code",
   "execution_count": 138,
   "metadata": {},
   "outputs": [
    {
     "data": {
      "text/html": [
       "<div>\n",
       "<style scoped>\n",
       "    .dataframe tbody tr th:only-of-type {\n",
       "        vertical-align: middle;\n",
       "    }\n",
       "\n",
       "    .dataframe tbody tr th {\n",
       "        vertical-align: top;\n",
       "    }\n",
       "\n",
       "    .dataframe thead th {\n",
       "        text-align: right;\n",
       "    }\n",
       "</style>\n",
       "<table border=\"1\" class=\"dataframe\">\n",
       "  <thead>\n",
       "    <tr style=\"text-align: right;\">\n",
       "      <th></th>\n",
       "      <th>sm</th>\n",
       "      <th>ct</th>\n",
       "      <th>mn</th>\n",
       "      <th>mx</th>\n",
       "      <th>av</th>\n",
       "      <th>pr</th>\n",
       "    </tr>\n",
       "  </thead>\n",
       "  <tbody>\n",
       "    <tr>\n",
       "      <th>1989-02-28</th>\n",
       "      <td>6</td>\n",
       "      <td>1</td>\n",
       "      <td>-9.8</td>\n",
       "      <td>0.0</td>\n",
       "      <td>-4.9</td>\n",
       "      <td>37.400000</td>\n",
       "    </tr>\n",
       "    <tr>\n",
       "      <th>1989-03-31</th>\n",
       "      <td>0</td>\n",
       "      <td>0</td>\n",
       "      <td>-4.4</td>\n",
       "      <td>7.2</td>\n",
       "      <td>1.4</td>\n",
       "      <td>127.300000</td>\n",
       "    </tr>\n",
       "    <tr>\n",
       "      <th>1989-04-30</th>\n",
       "      <td>0</td>\n",
       "      <td>0</td>\n",
       "      <td>-0.5</td>\n",
       "      <td>11.5</td>\n",
       "      <td>5.5</td>\n",
       "      <td>31.300001</td>\n",
       "    </tr>\n",
       "    <tr>\n",
       "      <th>1989-05-31</th>\n",
       "      <td>0</td>\n",
       "      <td>0</td>\n",
       "      <td>4.0</td>\n",
       "      <td>15.5</td>\n",
       "      <td>9.7</td>\n",
       "      <td>35.500000</td>\n",
       "    </tr>\n",
       "    <tr>\n",
       "      <th>1989-06-30</th>\n",
       "      <td>0</td>\n",
       "      <td>0</td>\n",
       "      <td>9.8</td>\n",
       "      <td>22.7</td>\n",
       "      <td>16.2</td>\n",
       "      <td>18.800001</td>\n",
       "    </tr>\n",
       "  </tbody>\n",
       "</table>\n",
       "</div>"
      ],
      "text/plain": [
       "            sm  ct   mn    mx    av          pr\n",
       "1989-02-28   6   1 -9.8   0.0  -4.9   37.400000\n",
       "1989-03-31   0   0 -4.4   7.2   1.4  127.300000\n",
       "1989-04-30   0   0 -0.5  11.5   5.5   31.300001\n",
       "1989-05-31   0   0  4.0  15.5   9.7   35.500000\n",
       "1989-06-30   0   0  9.8  22.7  16.2   18.800001"
      ]
     },
     "execution_count": 138,
     "metadata": {},
     "output_type": "execute_result"
    }
   ],
   "source": [
    "ghazni_df.head()"
   ]
  },
  {
   "cell_type": "code",
   "execution_count": 140,
   "metadata": {},
   "outputs": [
    {
     "data": {
      "text/html": [
       "<div>\n",
       "<style scoped>\n",
       "    .dataframe tbody tr th:only-of-type {\n",
       "        vertical-align: middle;\n",
       "    }\n",
       "\n",
       "    .dataframe tbody tr th {\n",
       "        vertical-align: top;\n",
       "    }\n",
       "\n",
       "    .dataframe thead th {\n",
       "        text-align: right;\n",
       "    }\n",
       "</style>\n",
       "<table border=\"1\" class=\"dataframe\">\n",
       "  <thead>\n",
       "    <tr style=\"text-align: right;\">\n",
       "      <th></th>\n",
       "      <th>sm</th>\n",
       "      <th>ct</th>\n",
       "      <th>mn</th>\n",
       "      <th>mx</th>\n",
       "      <th>av</th>\n",
       "      <th>pr</th>\n",
       "    </tr>\n",
       "    <tr>\n",
       "      <th>date_start</th>\n",
       "      <th></th>\n",
       "      <th></th>\n",
       "      <th></th>\n",
       "      <th></th>\n",
       "      <th></th>\n",
       "      <th></th>\n",
       "    </tr>\n",
       "  </thead>\n",
       "  <tbody>\n",
       "    <tr>\n",
       "      <th>1989-01-31</th>\n",
       "      <td>602</td>\n",
       "      <td>2</td>\n",
       "      <td>-8.6</td>\n",
       "      <td>1.000000</td>\n",
       "      <td>-3.8</td>\n",
       "      <td>40.100002</td>\n",
       "    </tr>\n",
       "    <tr>\n",
       "      <th>1989-02-28</th>\n",
       "      <td>34</td>\n",
       "      <td>7</td>\n",
       "      <td>-8.0</td>\n",
       "      <td>1.400000</td>\n",
       "      <td>-3.3</td>\n",
       "      <td>62.400000</td>\n",
       "    </tr>\n",
       "    <tr>\n",
       "      <th>1989-03-31</th>\n",
       "      <td>289</td>\n",
       "      <td>5</td>\n",
       "      <td>-1.3</td>\n",
       "      <td>9.900001</td>\n",
       "      <td>4.3</td>\n",
       "      <td>101.600000</td>\n",
       "    </tr>\n",
       "    <tr>\n",
       "      <th>1989-04-30</th>\n",
       "      <td>67</td>\n",
       "      <td>10</td>\n",
       "      <td>2.8</td>\n",
       "      <td>14.400001</td>\n",
       "      <td>8.6</td>\n",
       "      <td>34.400000</td>\n",
       "    </tr>\n",
       "    <tr>\n",
       "      <th>1989-05-31</th>\n",
       "      <td>18</td>\n",
       "      <td>2</td>\n",
       "      <td>7.6</td>\n",
       "      <td>18.400000</td>\n",
       "      <td>13.0</td>\n",
       "      <td>62.000000</td>\n",
       "    </tr>\n",
       "  </tbody>\n",
       "</table>\n",
       "</div>"
      ],
      "text/plain": [
       "             sm  ct   mn         mx    av          pr\n",
       "date_start                                           \n",
       "1989-01-31  602   2 -8.6   1.000000  -3.8   40.100002\n",
       "1989-02-28   34   7 -8.0   1.400000  -3.3   62.400000\n",
       "1989-03-31  289   5 -1.3   9.900001   4.3  101.600000\n",
       "1989-04-30   67  10  2.8  14.400001   8.6   34.400000\n",
       "1989-05-31   18   2  7.6  18.400000  13.0   62.000000"
      ]
     },
     "execution_count": 140,
     "metadata": {},
     "output_type": "execute_result"
    }
   ],
   "source": [
    "kabul_df.head()"
   ]
  },
  {
   "cell_type": "markdown",
   "metadata": {},
   "source": [
    "## 3.4 Hypothesis Test\n",
    "- Pearson’s Correlation Coefficient assumes that the observations are normally distributed\n",
    "- If the assumption of normality is violated, use Spearman’s Rank Correlation test\n",
    "  - We first tested normality\n",
    "  - If the data is normally distributed, use Pearson’s Correlation Coefficient\n",
    "  - Else, use Spearman’s Rank Correlation test\n",
    "\n",
    "\n",
    "- This Hypothesis Test section is based on the following sources: \n",
    "  - [Spearman's rank correlation coefficient in Wikipedia](https://en.wikipedia.org/wiki/Spearman%27s_rank_correlation_coefficient)\n",
    "  - [scipy.stats.spearmanr](https://docs.scipy.org/doc/scipy/reference/generated/scipy.stats.spearmanr.html)\n",
    "  - [Spearman's Rank Correlation](https://www.youtube.com/watch?v=3Grc9nVymm0)\n",
    "  - [Testing the Correlation between Time Series Variables](https://www.datasciencecentral.com/profiles/blogs/testing-the-correlation-between-time-series-variables)\n",
    "  - [Statistical Hypothesis Tests in Python](https://machinelearningmastery.com/statistical-hypothesis-tests-in-python-cheat-sheet/)"
   ]
  },
  {
   "cell_type": "markdown",
   "metadata": {},
   "source": [
    "### 3.4.1 Shapiro-Wilk Test for Normality\n",
    "```\n",
    "H0: The sample has a Gaussian distribution\n",
    "H1: The sample does not have a Gaussian distribution\n",
    "```\n",
    "- If p-value > alpha (0.05), fail to reject H0 (meaning normally distributed)\n",
    "- If p-value <= alpha (0.05), reject H0 (meaning not normally distributed)\n",
    "\n",
    "\n",
    "- As displayed in the test results below, **none** of the data is normally distributed\n",
    "  - We sanity checked the `shapiro_test` function using manually-created normally distributed data  \n",
    "  - We also confirmed the results using D’Agostino’s K-Squared Test in Appendix A.1\n",
    "- Based on the results of Normality test, we continue hypothesis testing of correlation using **Spearman’s Rank Correlation test**"
   ]
  },
  {
   "cell_type": "code",
   "execution_count": 206,
   "metadata": {},
   "outputs": [],
   "source": [
    "def shapiro_test(df):\n",
    "    stat, p = shapiro(df)\n",
    "    if p > 0.05:\n",
    "        print(f'p-value ({p:0.3f}) > 0.05, {df.columns[0]} is normally distributed')\n",
    "    else:\n",
    "        print(f'p-value ({p:0.3f}) <= 0.05, {df.columns[0]} is not normally distributed')"
   ]
  },
  {
   "cell_type": "markdown",
   "metadata": {},
   "source": [
    "### Kunduz"
   ]
  },
  {
   "cell_type": "code",
   "execution_count": 207,
   "metadata": {},
   "outputs": [
    {
     "name": "stdout",
     "output_type": "stream",
     "text": [
      "p-value (0.000) <= 0.05, sm is not normally distributed\n",
      "p-value (0.000) <= 0.05, ct is not normally distributed\n",
      "p-value (0.000) <= 0.05, mn is not normally distributed\n",
      "p-value (0.000) <= 0.05, mx is not normally distributed\n",
      "p-value (0.000) <= 0.05, av is not normally distributed\n",
      "p-value (0.000) <= 0.05, pr is not normally distributed\n"
     ]
    }
   ],
   "source": [
    "for df in [kunduz_df[['sm']], kunduz_df[['ct']], kunduz_df[['mn']], kunduz_df[['mx']], kunduz_df[['av']], kunduz_df[['pr']]]:\n",
    "    shapiro_test(df)"
   ]
  },
  {
   "cell_type": "markdown",
   "metadata": {},
   "source": [
    "### Ghazni"
   ]
  },
  {
   "cell_type": "code",
   "execution_count": 208,
   "metadata": {},
   "outputs": [
    {
     "name": "stdout",
     "output_type": "stream",
     "text": [
      "p-value (0.000) <= 0.05, sm is not normally distributed\n",
      "p-value (0.000) <= 0.05, ct is not normally distributed\n",
      "p-value (0.000) <= 0.05, mn is not normally distributed\n",
      "p-value (0.000) <= 0.05, mx is not normally distributed\n",
      "p-value (0.000) <= 0.05, av is not normally distributed\n",
      "p-value (0.000) <= 0.05, pr is not normally distributed\n"
     ]
    }
   ],
   "source": [
    "for df in [ghazni_df[['sm']], ghazni_df[['ct']], ghazni_df[['mn']], ghazni_df[['mx']], ghazni_df[['av']], ghazni_df[['pr']]]:\n",
    "    shapiro_test(df)"
   ]
  },
  {
   "cell_type": "markdown",
   "metadata": {},
   "source": [
    "### Kabul"
   ]
  },
  {
   "cell_type": "code",
   "execution_count": 209,
   "metadata": {},
   "outputs": [
    {
     "name": "stdout",
     "output_type": "stream",
     "text": [
      "p-value (0.000) <= 0.05, sm is not normally distributed\n",
      "p-value (0.000) <= 0.05, ct is not normally distributed\n",
      "p-value (0.000) <= 0.05, mn is not normally distributed\n",
      "p-value (0.000) <= 0.05, mx is not normally distributed\n",
      "p-value (0.000) <= 0.05, av is not normally distributed\n",
      "p-value (0.000) <= 0.05, pr is not normally distributed\n"
     ]
    }
   ],
   "source": [
    "for df in [kabul_df[['sm']], kabul_df[['ct']], kabul_df[['mn']], kabul_df[['mx']], kabul_df[['av']], kabul_df[['pr']]]:\n",
    "    shapiro_test(df)"
   ]
  },
  {
   "cell_type": "markdown",
   "metadata": {},
   "source": [
    "#### Sanity Check of Shapiro-Wilk Test for Normality\n",
    "- We manually created normally distributed data and ran Shapiro-Wilk Test for Normality to verify that the created data is indeed normally distributed"
   ]
  },
  {
   "cell_type": "code",
   "execution_count": 210,
   "metadata": {},
   "outputs": [
    {
     "name": "stdout",
     "output_type": "stream",
     "text": [
      "p-value (0.598) > 0.05, my_sample is normally distributed\n"
     ]
    }
   ],
   "source": [
    "normal_df = pd.DataFrame({'my_sample': np.random.normal(size=1000)})\n",
    "shapiro_test(normal_df)"
   ]
  },
  {
   "cell_type": "markdown",
   "metadata": {},
   "source": [
    "### 3.4.2 Spearman’s Rank Correlation Test\n",
    "```\n",
    "H0: No correlation between datasets\n",
    "H1: There is correlation between datasets\n",
    "```\n",
    "- If p-value > alpha (0.05), fail to reject H0 (meaning no correlation between datasets)\n",
    "- If p-value <= alpha (0.05), reject H0 (meaning there is correlation between datasets)\n",
    "\n",
    "\n",
    "- The results of correlation test are displayed in the next Section \"3.4.3 Summary of correlation between conflict and climate variables by districts\"\n",
    "  - We found correlations between sum of people/event count and temperature\n",
    "  - We did not find correlation between sum of people/event count and precipitation\n",
    "  \n",
    "- We sanity checked the `spearman_test` function using sum of people and event count, which we believe they are correlated accounding to how we curated the data\n",
    "- We also confirmed the results using Kendall’s Rank Correlation Test in Appendix A.2"
   ]
  },
  {
   "cell_type": "code",
   "execution_count": 189,
   "metadata": {},
   "outputs": [],
   "source": [
    "def spearman_test(df1, df2):\n",
    "    stat, p = spearmanr(df1, df2)\n",
    "    if p > 0.05:\n",
    "        print(f'p-value ({p:0.3f}) > 0.05, no correlation between {df1.columns[0]} and {df2.columns[0]}')\n",
    "    else:\n",
    "        print(f'p-value ({p:0.3f}) <= 0.05, correlation exists between {df1.columns[0]} and {df2.columns[0]}')"
   ]
  },
  {
   "cell_type": "markdown",
   "metadata": {},
   "source": [
    "### Kunduz"
   ]
  },
  {
   "cell_type": "code",
   "execution_count": 190,
   "metadata": {},
   "outputs": [
    {
     "name": "stdout",
     "output_type": "stream",
     "text": [
      "p-value (0.063) > 0.05, no correlation between sm and mn\n",
      "p-value (0.116) > 0.05, no correlation between sm and mx\n",
      "p-value (0.075) > 0.05, no correlation between sm and av\n",
      "p-value (0.334) > 0.05, no correlation between sm and pr\n",
      "p-value (0.026) <= 0.05, correlation exists between ct and mn\n",
      "p-value (0.062) > 0.05, no correlation between ct and mx\n",
      "p-value (0.036) <= 0.05, correlation exists between ct and av\n",
      "p-value (0.437) > 0.05, no correlation between ct and pr\n"
     ]
    }
   ],
   "source": [
    "for df1, df2 in product([kunduz_df[['sm']], kunduz_df[['ct']]], \n",
    "                        [kunduz_df[['mn']], kunduz_df[['mx']], kunduz_df[['av']], kunduz_df[['pr']]]):\n",
    "    spearman_test(df1, df2)"
   ]
  },
  {
   "cell_type": "markdown",
   "metadata": {},
   "source": [
    "### Ghazni"
   ]
  },
  {
   "cell_type": "code",
   "execution_count": 191,
   "metadata": {},
   "outputs": [
    {
     "name": "stdout",
     "output_type": "stream",
     "text": [
      "p-value (0.019) <= 0.05, correlation exists between sm and mn\n",
      "p-value (0.026) <= 0.05, correlation exists between sm and mx\n",
      "p-value (0.022) <= 0.05, correlation exists between sm and av\n",
      "p-value (0.976) > 0.05, no correlation between sm and pr\n",
      "p-value (0.015) <= 0.05, correlation exists between ct and mn\n",
      "p-value (0.021) <= 0.05, correlation exists between ct and mx\n",
      "p-value (0.018) <= 0.05, correlation exists between ct and av\n",
      "p-value (0.760) > 0.05, no correlation between ct and pr\n"
     ]
    }
   ],
   "source": [
    "for df1, df2 in product([ghazni_df[['sm']], ghazni_df[['ct']]], \n",
    "                        [ghazni_df[['mn']], ghazni_df[['mx']], ghazni_df[['av']], ghazni_df[['pr']]]):\n",
    "    spearman_test(df1, df2)"
   ]
  },
  {
   "cell_type": "markdown",
   "metadata": {},
   "source": [
    "### Kabul"
   ]
  },
  {
   "cell_type": "code",
   "execution_count": 192,
   "metadata": {},
   "outputs": [
    {
     "name": "stdout",
     "output_type": "stream",
     "text": [
      "p-value (0.007) <= 0.05, correlation exists between sm and mn\n",
      "p-value (0.006) <= 0.05, correlation exists between sm and mx\n",
      "p-value (0.006) <= 0.05, correlation exists between sm and av\n",
      "p-value (0.077) > 0.05, no correlation between sm and pr\n",
      "p-value (0.001) <= 0.05, correlation exists between ct and mn\n",
      "p-value (0.002) <= 0.05, correlation exists between ct and mx\n",
      "p-value (0.001) <= 0.05, correlation exists between ct and av\n",
      "p-value (0.120) > 0.05, no correlation between ct and pr\n"
     ]
    }
   ],
   "source": [
    "for df1, df2 in product([kabul_df[['sm']], kabul_df[['ct']]], \n",
    "                        [kabul_df[['mn']], kabul_df[['mx']], kabul_df[['av']], kabul_df[['pr']]]):\n",
    "    spearman_test(df1, df2)"
   ]
  },
  {
   "cell_type": "markdown",
   "metadata": {},
   "source": [
    "#### Sanity Check of Spearman’s Rank Correlation Test\n",
    "- Based on how we curated the sum of people and the event count, they should be correlated\n",
    "- We ran Spearman’s Rank Correlation Test and found that they are indeed correlated"
   ]
  },
  {
   "cell_type": "code",
   "execution_count": 196,
   "metadata": {},
   "outputs": [
    {
     "name": "stdout",
     "output_type": "stream",
     "text": [
      "p-value (0.000) <= 0.05, correlation exists between sm and ct\n"
     ]
    }
   ],
   "source": [
    "spearman_test(kunduz_df[['sm']], kunduz_df[['ct']])"
   ]
  },
  {
   "cell_type": "code",
   "execution_count": 195,
   "metadata": {},
   "outputs": [
    {
     "name": "stdout",
     "output_type": "stream",
     "text": [
      "p-value (0.000) <= 0.05, correlation exists between sm and ct\n"
     ]
    }
   ],
   "source": [
    "spearman_test(ghazni_df[['sm']], ghazni_df[['ct']])"
   ]
  },
  {
   "cell_type": "code",
   "execution_count": 194,
   "metadata": {},
   "outputs": [
    {
     "name": "stdout",
     "output_type": "stream",
     "text": [
      "p-value (0.000) <= 0.05, correlation exists between sm and ct\n"
     ]
    }
   ],
   "source": [
    "spearman_test(kabul_df[['sm']], kabul_df[['ct']])"
   ]
  },
  {
   "cell_type": "markdown",
   "metadata": {},
   "source": [
    "## 3.4.3 Summary of correlation between conflict and climate variables by districts\n",
    "<br>\n",
    "\n",
    "|Kunduz        | Min Temperature | Max Temperature | Average Temperature | Precipitation |\n",
    "|:-------------|:---------------:|:---------------:|:-------------------:|:-------------:|\n",
    "|Sum of People |        ---      |       ---       |        ---          |     ---       |\n",
    "|Event Count   |         Y       |       ---       |         Y           |     ---       |\n",
    "\n",
    "|Ghazni        | Min Temperature | Max Temperature | Average Temperature | Precipitation |\n",
    "|:-------------|:---------------:|:---------------:|:-------------------:|:-------------:|\n",
    "|Sum of People |         Y       |        Y        |         Y           |     ---       |\n",
    "|Event Count   |         Y       |        Y        |         Y           |     ---       |\n",
    "\n",
    "|Kabul         | Min Temperature | Max Temperature | Average Temperature | Precipitation |\n",
    "|:-------------|:---------------:|:---------------:|:-------------------:|:-------------:|\n",
    "|Sum of People |         Y       |        Y        |         Y           |     ---       |\n",
    "|Event Count   |         Y       |        Y        |         Y           |     ---       |\n",
    "\n",
    "Notes:\n",
    "- 'Y' represents correlations\n",
    "  - For example, in Kabul, correlation exists between sum of people and minimum temperature\n",
    "- '---' represents no correlation\n",
    "  - For example, in Kabul, no correlation between sum of people and precipitation"
   ]
  },
  {
   "cell_type": "markdown",
   "metadata": {},
   "source": [
    "# Appendix"
   ]
  },
  {
   "cell_type": "markdown",
   "metadata": {},
   "source": [
    "## A.1 D’Agostino’s K-Squared Test for Normality\n",
    "- We obtained the same results as Shapiro-Wilk Test above"
   ]
  },
  {
   "cell_type": "code",
   "execution_count": 237,
   "metadata": {},
   "outputs": [],
   "source": [
    "def dagostino_test(df):\n",
    "    stat, p = normaltest(df)\n",
    "    if p > 0.05:\n",
    "        print(f'p-value > 0.05, {df.columns[0]} is normally distributed; p-value = {p}')\n",
    "    else:\n",
    "        print(f'p-value <= 0.05, {df.columns[0]} is not normally distributed; p-value = {p}')"
   ]
  },
  {
   "cell_type": "code",
   "execution_count": 238,
   "metadata": {},
   "outputs": [
    {
     "name": "stdout",
     "output_type": "stream",
     "text": [
      "Kunduz----------\n",
      "p-value <= 0.05, sm is not normally distributed; p-value = [2.12245497e-59]\n",
      "p-value <= 0.05, ct is not normally distributed; p-value = [1.45367686e-65]\n",
      "p-value <= 0.05, mn is not normally distributed; p-value = [4.38970668e-228]\n",
      "p-value <= 0.05, mx is not normally distributed; p-value = [0.]\n",
      "p-value <= 0.05, av is not normally distributed; p-value = [0.]\n",
      "p-value <= 0.05, pr is not normally distributed; p-value = [8.16658065e-10]\n",
      "\n",
      "Ghazni----------\n",
      "p-value <= 0.05, sm is not normally distributed; p-value = [3.14449226e-62]\n",
      "p-value <= 0.05, ct is not normally distributed; p-value = [8.86451781e-50]\n",
      "p-value <= 0.05, mn is not normally distributed; p-value = [0.]\n",
      "p-value <= 0.05, mx is not normally distributed; p-value = [0.]\n",
      "p-value <= 0.05, av is not normally distributed; p-value = [0.]\n",
      "p-value <= 0.05, pr is not normally distributed; p-value = [4.7204836e-20]\n",
      "\n",
      "Kabul----------\n",
      "p-value <= 0.05, sm is not normally distributed; p-value = [4.16374918e-166]\n",
      "p-value <= 0.05, ct is not normally distributed; p-value = [8.63631263e-30]\n",
      "p-value <= 0.05, mn is not normally distributed; p-value = [1.3124731e-272]\n",
      "p-value <= 0.05, mx is not normally distributed; p-value = [0.]\n",
      "p-value <= 0.05, av is not normally distributed; p-value = [0.]\n",
      "p-value <= 0.05, pr is not normally distributed; p-value = [1.14698601e-19]\n"
     ]
    }
   ],
   "source": [
    "print('Kunduz----------')\n",
    "for df in [kunduz_df[['sm']], kunduz_df[['ct']], kunduz_df[['mn']], kunduz_df[['mx']], kunduz_df[['av']], kunduz_df[['pr']]]:\n",
    "    dagostino_test(df)\n",
    "\n",
    "print('\\nGhazni----------')\n",
    "for df in [ghazni_df[['sm']], ghazni_df[['ct']], ghazni_df[['mn']], ghazni_df[['mx']], ghazni_df[['av']], ghazni_df[['pr']]]:\n",
    "    dagostino_test(df)\n",
    "\n",
    "print('\\nKabul----------')\n",
    "for df in [kabul_df[['sm']], kabul_df[['ct']], kabul_df[['mn']], kabul_df[['mx']], kabul_df[['av']], kabul_df[['pr']]]:\n",
    "    dagostino_test(df)"
   ]
  },
  {
   "cell_type": "markdown",
   "metadata": {},
   "source": [
    "#### Sanity Check of D’Agostino’s K-Squared Test for Normality"
   ]
  },
  {
   "cell_type": "code",
   "execution_count": 244,
   "metadata": {},
   "outputs": [
    {
     "name": "stdout",
     "output_type": "stream",
     "text": [
      "p-value > 0.05, my_sample is normally distributed; p-value = [0.2034792]\n"
     ]
    }
   ],
   "source": [
    "normal_df = pd.DataFrame({'my_sample': np.random.normal(size=1000)})\n",
    "dagostino_test(normal_df)"
   ]
  },
  {
   "cell_type": "markdown",
   "metadata": {},
   "source": [
    "## A.2 Kendall’s Rank Correlation Test\n",
    "- We obtained the same results as Spearman’s Rank Correlation Test above"
   ]
  },
  {
   "cell_type": "code",
   "execution_count": 246,
   "metadata": {},
   "outputs": [],
   "source": [
    "def kendall_test(df1, df2):\n",
    "    stat, p = kendalltau(df1, df2)\n",
    "    if p > 0.05:\n",
    "        print(f'p-value ({p:0.3f}) > 0.05, no correlation between {df1.columns[0]} and {df2.columns[0]}')\n",
    "    else:\n",
    "        print(f'p-value ({p:0.3f}) <= 0.05, correlation exists between {df1.columns[0]} and {df2.columns[0]}')"
   ]
  },
  {
   "cell_type": "code",
   "execution_count": 247,
   "metadata": {},
   "outputs": [
    {
     "name": "stdout",
     "output_type": "stream",
     "text": [
      "Kunduz----------\n",
      "p-value (0.064) > 0.05, no correlation between sm and mn\n",
      "p-value (0.116) > 0.05, no correlation between sm and mx\n",
      "p-value (0.074) > 0.05, no correlation between sm and av\n",
      "p-value (0.327) > 0.05, no correlation between sm and pr\n",
      "p-value (0.023) <= 0.05, correlation exists between ct and mn\n",
      "p-value (0.058) > 0.05, no correlation between ct and mx\n",
      "p-value (0.033) <= 0.05, correlation exists between ct and av\n",
      "p-value (0.434) > 0.05, no correlation between ct and pr\n",
      "\n",
      "Ghazni----------\n",
      "p-value (0.025) <= 0.05, correlation exists between sm and mn\n",
      "p-value (0.034) <= 0.05, correlation exists between sm and mx\n",
      "p-value (0.029) <= 0.05, correlation exists between sm and av\n",
      "p-value (0.953) > 0.05, no correlation between sm and pr\n",
      "p-value (0.018) <= 0.05, correlation exists between ct and mn\n",
      "p-value (0.026) <= 0.05, correlation exists between ct and mx\n",
      "p-value (0.021) <= 0.05, correlation exists between ct and av\n",
      "p-value (0.767) > 0.05, no correlation between ct and pr\n",
      "\n",
      "Kabul----------\n",
      "p-value (0.007) <= 0.05, correlation exists between sm and mn\n",
      "p-value (0.005) <= 0.05, correlation exists between sm and mx\n",
      "p-value (0.006) <= 0.05, correlation exists between sm and av\n",
      "p-value (0.087) > 0.05, no correlation between sm and pr\n",
      "p-value (0.001) <= 0.05, correlation exists between ct and mn\n",
      "p-value (0.002) <= 0.05, correlation exists between ct and mx\n",
      "p-value (0.001) <= 0.05, correlation exists between ct and av\n",
      "p-value (0.142) > 0.05, no correlation between ct and pr\n"
     ]
    }
   ],
   "source": [
    "print('Kunduz----------')\n",
    "for df1, df2 in product([kunduz_df[['sm']], kunduz_df[['ct']]], \n",
    "                        [kunduz_df[['mn']], kunduz_df[['mx']], kunduz_df[['av']], kunduz_df[['pr']]]):\n",
    "    kendall_test(df1, df2)\n",
    "\n",
    "print('\\nGhazni----------')\n",
    "for df1, df2 in product([ghazni_df[['sm']], ghazni_df[['ct']]], \n",
    "                        [ghazni_df[['mn']], ghazni_df[['mx']], ghazni_df[['av']], ghazni_df[['pr']]]):\n",
    "    kendall_test(df1, df2)\n",
    "\n",
    "print('\\nKabul----------')\n",
    "for df1, df2 in product([kabul_df[['sm']], kabul_df[['ct']]], \n",
    "                        [kabul_df[['mn']], kabul_df[['mx']], kabul_df[['av']], kabul_df[['pr']]]):\n",
    "    kendall_test(df1, df2)"
   ]
  },
  {
   "cell_type": "markdown",
   "metadata": {},
   "source": [
    "#### Sanity Check of Kendall’s Rank Correlation Test"
   ]
  },
  {
   "cell_type": "code",
   "execution_count": 249,
   "metadata": {},
   "outputs": [
    {
     "name": "stdout",
     "output_type": "stream",
     "text": [
      "Kunduz----------\n",
      "p-value (0.000) <= 0.05, correlation exists between sm and ct\n",
      "\n",
      "Ghazni----------\n",
      "p-value (0.000) <= 0.05, correlation exists between sm and ct\n",
      "\n",
      "Kabul----------\n",
      "p-value (0.000) <= 0.05, correlation exists between sm and ct\n"
     ]
    }
   ],
   "source": [
    "print('Kunduz----------')\n",
    "kendall_test(kunduz_df[['sm']], kunduz_df[['ct']])\n",
    "\n",
    "print('\\nGhazni----------')\n",
    "kendall_test(ghazni_df[['sm']], ghazni_df[['ct']])\n",
    "\n",
    "print('\\nKabul----------')\n",
    "kendall_test(kabul_df[['sm']], kabul_df[['ct']])"
   ]
  },
  {
   "cell_type": "markdown",
   "metadata": {},
   "source": [
    "## References\n",
    "- [DataFrame merge code in StackOverflow](https://stackoverflow.com/questions/44327999/python-pandas-merge-multiple-dataframes)\n",
    "- [Spearman's rank correlation coefficient in Wikipedia](https://en.wikipedia.org/wiki/Spearman%27s_rank_correlation_coefficient)\n",
    "- [scipy.stats.spearmanr document](https://docs.scipy.org/doc/scipy/reference/generated/scipy.stats.spearmanr.html)\n",
    "- [Spearman's Rank Correlation](https://www.youtube.com/watch?v=3Grc9nVymm0)\n",
    "- [Testing the Correlation between Time Series Variables](https://www.datasciencecentral.com/profiles/blogs/testing-the-correlation-between-time-series-variables)\n",
    "- [Statistical Hypothesis Tests in Python](https://machinelearningmastery.com/statistical-hypothesis-tests-in-python-cheat-sheet/)"
   ]
  },
  {
   "cell_type": "code",
   "execution_count": null,
   "metadata": {},
   "outputs": [],
   "source": []
  }
 ],
 "metadata": {
  "kernelspec": {
   "display_name": "Python 3",
   "language": "python",
   "name": "python3"
  },
  "language_info": {
   "codemirror_mode": {
    "name": "ipython",
    "version": 3
   },
   "file_extension": ".py",
   "mimetype": "text/x-python",
   "name": "python",
   "nbconvert_exporter": "python",
   "pygments_lexer": "ipython3",
   "version": "3.7.7"
  }
 },
 "nbformat": 4,
 "nbformat_minor": 4
}
